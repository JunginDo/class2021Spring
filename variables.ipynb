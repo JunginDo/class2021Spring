{
  "nbformat": 4,
  "nbformat_minor": 0,
  "metadata": {
    "colab": {
      "name": "Untitled1.ipynb",
      "provenance": [],
      "authorship_tag": "ABX9TyMLh3/CAtFzxVUgLauy9V0L",
      "include_colab_link": true
    },
    "kernelspec": {
      "name": "python3",
      "display_name": "Python 3"
    }
  },
  "cells": [
    {
      "cell_type": "markdown",
      "metadata": {
        "id": "view-in-github",
        "colab_type": "text"
      },
      "source": [
        "<a href=\"https://colab.research.google.com/github/JunginDo/class2021Spring/blob/main/variables.ipynb\" target=\"_parent\"><img src=\"https://colab.research.google.com/assets/colab-badge.svg\" alt=\"Open In Colab\"/></a>"
      ]
    },
    {
      "cell_type": "code",
      "metadata": {
        "colab": {
          "base_uri": "https://localhost:8080/"
        },
        "id": "Fp5mPm5ULt1s",
        "outputId": "eebaba8e-cc80-488f-9a0d-d2533db8a368"
      },
      "source": [
        "a = 3\r\n",
        "print(type(a))"
      ],
      "execution_count": 1,
      "outputs": [
        {
          "output_type": "stream",
          "text": [
            "<class 'int'>\n"
          ],
          "name": "stdout"
        }
      ]
    },
    {
      "cell_type": "code",
      "metadata": {
        "colab": {
          "base_uri": "https://localhost:8080/"
        },
        "id": "D2c4DA1GLyCQ",
        "outputId": "63519085-00ea-4f91-b6ce-e3cb529e6011"
      },
      "source": [
        "a = 2\r\n",
        "a = float(a)\r\n",
        "print(type(a))\r\n",
        "print (a)"
      ],
      "execution_count": 3,
      "outputs": [
        {
          "output_type": "stream",
          "text": [
            "<class 'float'>\n",
            "2.0\n"
          ],
          "name": "stdout"
        }
      ]
    },
    {
      "cell_type": "code",
      "metadata": {
        "colab": {
          "base_uri": "https://localhost:8080/"
        },
        "id": "tr33VWdfL0oy",
        "outputId": "aad480f8-9e46-476e-96db-351c572b098d"
      },
      "source": [
        "a = 2.3\r\n",
        "a = int(a)\r\n",
        "print(type(a))\r\n",
        "print(a)"
      ],
      "execution_count": 4,
      "outputs": [
        {
          "output_type": "stream",
          "text": [
            "<class 'int'>\n",
            "2\n"
          ],
          "name": "stdout"
        }
      ]
    },
    {
      "cell_type": "code",
      "metadata": {
        "colab": {
          "base_uri": "https://localhost:8080/"
        },
        "id": "2wlAnmu4L4WD",
        "outputId": "75057b22-eda9-4a8d-95cd-ab7eebf2ae2e"
      },
      "source": [
        "a = '123'\r\n",
        "print(type(a))\r\n",
        "print(a[1])"
      ],
      "execution_count": 6,
      "outputs": [
        {
          "output_type": "stream",
          "text": [
            "<class 'str'>\n",
            "2\n"
          ],
          "name": "stdout"
        }
      ]
    },
    {
      "cell_type": "code",
      "metadata": {
        "colab": {
          "base_uri": "https://localhost:8080/"
        },
        "id": "avhxPYqDL6zQ",
        "outputId": "da56ac13-0a2e-4944-fbbf-18ad299b0e1c"
      },
      "source": [
        "a = '123'\r\n",
        "a = list(a)\r\n",
        "print(type(a))\r\n",
        "print(a)\r\n",
        "print(a[2])"
      ],
      "execution_count": 7,
      "outputs": [
        {
          "output_type": "stream",
          "text": [
            "<class 'list'>\n",
            "['1', '2', '3']\n",
            "3\n"
          ],
          "name": "stdout"
        }
      ]
    },
    {
      "cell_type": "code",
      "metadata": {
        "colab": {
          "base_uri": "https://localhost:8080/"
        },
        "id": "h4gIS_M-L-TV",
        "outputId": "a32d4b00-aa70-4ff3-d761-096a1363377d"
      },
      "source": [
        "a = [1,'2', [3, '4']]\r\n",
        "print(type(a))\r\n",
        "print(a[0])\r\n",
        "print(a[1])\r\n",
        "print(a[2])"
      ],
      "execution_count": 8,
      "outputs": [
        {
          "output_type": "stream",
          "text": [
            "<class 'list'>\n",
            "1\n",
            "2\n",
            "[3, '4']\n"
          ],
          "name": "stdout"
        }
      ]
    },
    {
      "cell_type": "code",
      "metadata": {
        "colab": {
          "base_uri": "https://localhost:8080/"
        },
        "id": "nFKYmj9uMAtZ",
        "outputId": "9deb7498-4395-4041-9705-5446bceef6c5"
      },
      "source": [
        "a = (1,'2', [3, '4'])\r\n",
        "print(type(a))\r\n",
        "print(a[0])\r\n",
        "print(a[1])\r\n",
        "print(a[2])"
      ],
      "execution_count": 9,
      "outputs": [
        {
          "output_type": "stream",
          "text": [
            "<class 'tuple'>\n",
            "1\n",
            "2\n",
            "[3, '4']\n"
          ],
          "name": "stdout"
        }
      ]
    },
    {
      "cell_type": "code",
      "metadata": {
        "colab": {
          "base_uri": "https://localhost:8080/"
        },
        "id": "nVPaBAanMDCm",
        "outputId": "6736aa2c-4ff2-47fb-efca-f3fe739ea78e"
      },
      "source": [
        "a =\t{\"a\": \"red\", \"b\": \"yellow\", \"c\": 2021}\r\n",
        "print(type(a))\r\n",
        "print(a[\"b\"])"
      ],
      "execution_count": 11,
      "outputs": [
        {
          "output_type": "stream",
          "text": [
            "<class 'dict'>\n",
            "yellow\n"
          ],
          "name": "stdout"
        }
      ]
    },
    {
      "cell_type": "code",
      "metadata": {
        "colab": {
          "base_uri": "https://localhost:8080/"
        },
        "id": "b4raaQckMHMb",
        "outputId": "31defbc5-3365-42f8-db76-8406030e6e2a"
      },
      "source": [
        "a=[(1,2,3), (3,8,0)]\r\n",
        "print(type(a))\r\n",
        "print (a)\r\n",
        "print (a[0])"
      ],
      "execution_count": 13,
      "outputs": [
        {
          "output_type": "stream",
          "text": [
            "<class 'list'>\n",
            "[(1, 2, 3), (3, 8, 0)]\n",
            "(1, 2, 3)\n"
          ],
          "name": "stdout"
        }
      ]
    },
    {
      "cell_type": "markdown",
      "metadata": {
        "id": "ao-irZeDgXN-"
      },
      "source": [
        "int: 정수형, float: 변수형 둘 다 type을 print 했을 떄 보여지는 class.\r\n",
        "\r\n",
        "그냥 print (a)하면 숫자나 문자 혹은 그 나열이 보여짐.\r\n",
        "\r\n",
        "a[]:대괄호 안의 숫자는 list나 tuple에서 몇번에 오는 숫자나 나열을 print할 것인지 를 말함.\r\n",
        "\r\n",
        "list는 []를 사용하여 안에 문자나 숫자를 나열하고 tuple은 ()사용하여 나열.\r\n",
        "\r\n"
      ]
    }
  ]
}