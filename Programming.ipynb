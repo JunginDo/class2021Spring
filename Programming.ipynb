{
  "nbformat": 4,
  "nbformat_minor": 0,
  "metadata": {
    "colab": {
      "name": "Programming.ipynb",
      "provenance": [],
      "authorship_tag": "ABX9TyM4xkuiFRCJJ/r6CI38syz1",
      "include_colab_link": true
    },
    "kernelspec": {
      "name": "python3",
      "display_name": "Python 3"
    }
  },
  "cells": [
    {
      "cell_type": "markdown",
      "metadata": {
        "id": "view-in-github",
        "colab_type": "text"
      },
      "source": [
        "<a href=\"https://colab.research.google.com/github/JunginDo/class2021Spring/blob/main/Programming.ipynb\" target=\"_parent\"><img src=\"https://colab.research.google.com/assets/colab-badge.svg\" alt=\"Open In Colab\"/></a>"
      ]
    },
    {
      "cell_type": "markdown",
      "metadata": {
        "id": "b59Gkce5pvVJ"
      },
      "source": [
        ""
      ]
    },
    {
      "cell_type": "markdown",
      "metadata": {
        "id": "OaYzHqLxpwml"
      },
      "source": [
        "a=1 에서 a는 변수, 1은 내용\r\n",
        "오른쪽 내용을 왼쪽에 assign\r\n",
        "\r\n",
        "제어문=문법\r\n",
        "반복: for\r\n",
        "조건: if\r\n",
        "\r\n",
        "함수 function 은 input과 output에 변화가 있음"
      ]
    }
  ]
}