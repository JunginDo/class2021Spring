{
  "nbformat": 4,
  "nbformat_minor": 0,
  "metadata": {
    "colab": {
      "name": "Untitled4.ipynb",
      "provenance": [],
      "authorship_tag": "ABX9TyNzImbKkkI0kZRgcUzGoCVY",
      "include_colab_link": true
    },
    "kernelspec": {
      "name": "python3",
      "display_name": "Python 3"
    }
  },
  "cells": [
    {
      "cell_type": "markdown",
      "metadata": {
        "id": "view-in-github",
        "colab_type": "text"
      },
      "source": [
        "<a href=\"https://colab.research.google.com/github/JunginDo/class2021Spring/blob/main/20210317.ipynb\" target=\"_parent\"><img src=\"https://colab.research.google.com/assets/colab-badge.svg\" alt=\"Open In Colab\"/></a>"
      ]
    },
    {
      "cell_type": "code",
      "metadata": {
        "colab": {
          "base_uri": "https://localhost:8080/"
        },
        "id": "5HKCNIaSuZTb",
        "outputId": "e60fbfd7-079c-4a24-ff39-b5b94697c901"
      },
      "source": [
        "for i in [1,2,3,4]:\r\n",
        "  for j in range (4,6):\r\n",
        "    if i>=2:\r\n",
        "      print (i+j)"
      ],
      "execution_count": 1,
      "outputs": [
        {
          "output_type": "stream",
          "text": [
            "6\n",
            "7\n",
            "7\n",
            "8\n",
            "8\n",
            "9\n"
          ],
          "name": "stdout"
        }
      ]
    },
    {
      "cell_type": "code",
      "metadata": {
        "colab": {
          "base_uri": "https://localhost:8080/"
        },
        "id": "-xb21WKyvBaC",
        "outputId": "490c96fa-64c0-4e8c-c074-518dc6f068b3"
      },
      "source": [
        "a=[\"a\", \"abc\", \"English\",\"hospital\"]\r\n",
        "b=[i for i in a if len(i)>=3]\r\n",
        "print (type(b))\r\n",
        "print (b)"
      ],
      "execution_count": 2,
      "outputs": [
        {
          "output_type": "stream",
          "text": [
            "<class 'list'>\n",
            "['abc', 'English', 'hospital']\n"
          ],
          "name": "stdout"
        }
      ]
    }
  ]
}