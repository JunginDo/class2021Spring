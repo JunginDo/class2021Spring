{
  "nbformat": 4,
  "nbformat_minor": 0,
  "metadata": {
    "colab": {
      "name": "Untitled1.ipynb",
      "provenance": [],
      "authorship_tag": "ABX9TyM3HEu2u6YOyUCSlgUafYvI",
      "include_colab_link": true
    },
    "kernelspec": {
      "name": "python3",
      "display_name": "Python 3"
    }
  },
  "cells": [
    {
      "cell_type": "markdown",
      "metadata": {
        "id": "view-in-github",
        "colab_type": "text"
      },
      "source": [
        "<a href=\"https://colab.research.google.com/github/JunginDo/class2021Spring/blob/main/Untitled1.ipynb\" target=\"_parent\"><img src=\"https://colab.research.google.com/assets/colab-badge.svg\" alt=\"Open In Colab\"/></a>"
      ]
    },
    {
      "cell_type": "markdown",
      "metadata": {
        "id": "b59Gkce5pvVJ"
      },
      "source": [
        ""
      ]
    },
    {
      "cell_type": "markdown",
      "metadata": {
        "id": "OaYzHqLxpwml"
      },
      "source": [
        "a=1 ㅇ에엣에서 aㄴ느는 ㅂ벼변ㅅ수, 1ㅇ으은 ㄴ내냉내요용\r\n",
        "ㅇ오올오르른ㅉ쪼쪽 ㄴ내냉내요용ㅇ으을 ㅇ오외왼ㅉ쪼쪽ㅇ에 assign\r\n",
        "\r\n",
        "ㅈ제젱제어엄어무문=ㅁ무문ㅂ버법\r\n",
        "ㅂ바반ㅂ보복: for\r\n",
        "좆조조족조거건: if\r\n",
        "\r\n",
        "ㅎ하함ㅅ수 function ㅇ으은 inputㄱ고과 outputㅇ에 홥화벼변볂변호화확화가 ㅇ이있ㅇ으음"
      ]
    }
  ]
}