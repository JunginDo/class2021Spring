{
  "nbformat": 4,
  "nbformat_minor": 0,
  "metadata": {
    "colab": {
      "name": "Untitled10.ipynb",
      "provenance": [],
      "toc_visible": true,
      "authorship_tag": "ABX9TyMOPuQdysjZNk0HNv3GgW2o",
      "include_colab_link": true
    },
    "kernelspec": {
      "name": "python3",
      "display_name": "Python 3"
    },
    "language_info": {
      "name": "python"
    }
  },
  "cells": [
    {
      "cell_type": "markdown",
      "metadata": {
        "id": "view-in-github",
        "colab_type": "text"
      },
      "source": [
        "<a href=\"https://colab.research.google.com/github/JunginDo/class2021Spring/blob/main/20210426-1.ipynb\" target=\"_parent\"><img src=\"https://colab.research.google.com/assets/colab-badge.svg\" alt=\"Open In Colab\"/></a>"
      ]
    },
    {
      "cell_type": "code",
      "metadata": {
        "id": "IAVLSD2Bybyw"
      },
      "source": [
        "%matplotlib inline\n",
        "from matplotlib import pyplot as plt\n",
        "import IPython.display as ipd\n",
        "import numpy as np\n",
        "from scipy.signal import lfilter"
      ],
      "execution_count": 16,
      "outputs": []
    },
    {
      "cell_type": "code",
      "metadata": {
        "id": "zfl1osiNxX8Q"
      },
      "source": [
        "def phasor(amp, sr, dur, freq):\n",
        "  return (np.arange(1, sr * dur+1)/sr, np.arange(1, sr * dur+1)* 2*np.pi * freq, np.sin(np.arange(1, sr * dur+1) * 2*np.pi * freq))\n",
        "\n",
        "\n"
      ],
      "execution_count": 39,
      "outputs": []
    },
    {
      "cell_type": "code",
      "metadata": {
        "colab": {
          "base_uri": "https://localhost:8080/"
        },
        "id": "5Ajh-pjCygn3",
        "outputId": "efa96434-6c5c-4a4a-a041-b89b055c9cb1"
      },
      "source": [
        "phasor (1, 10000, 0.5, 100.0)\n"
      ],
      "execution_count": 40,
      "outputs": [
        {
          "output_type": "execute_result",
          "data": {
            "text/plain": [
              "(array([1.000e-04, 2.000e-04, 3.000e-04, ..., 4.998e-01, 4.999e-01,\n",
              "        5.000e-01]),\n",
              " array([6.28318531e+02, 1.25663706e+03, 1.88495559e+03, ...,\n",
              "        3.14033602e+06, 3.14096434e+06, 3.14159265e+06]),\n",
              " array([ 3.92877345e-15,  7.85754689e-15, -1.01900517e-13, ...,\n",
              "        -3.51610461e-11, -1.29176132e-10, -2.23191218e-10]))"
            ]
          },
          "metadata": {
            "tags": []
          },
          "execution_count": 40
        }
      ]
    }
  ]
}