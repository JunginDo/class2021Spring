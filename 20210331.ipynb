{
  "nbformat": 4,
  "nbformat_minor": 0,
  "metadata": {
    "colab": {
      "name": "Untitled6.ipynb",
      "provenance": [],
      "authorship_tag": "ABX9TyPxt0+k9bgDxbwUBCewPNk4",
      "include_colab_link": true
    },
    "kernelspec": {
      "name": "python3",
      "display_name": "Python 3"
    },
    "language_info": {
      "name": "python"
    }
  },
  "cells": [
    {
      "cell_type": "markdown",
      "metadata": {
        "id": "view-in-github",
        "colab_type": "text"
      },
      "source": [
        "<a href=\"https://colab.research.google.com/github/JunginDo/class2021Spring/blob/main/20210331.ipynb\" target=\"_parent\"><img src=\"https://colab.research.google.com/assets/colab-badge.svg\" alt=\"Open In Colab\"/></a>"
      ]
    },
    {
      "cell_type": "code",
      "metadata": {
        "id": "Cms4dqc352C0"
      },
      "source": [
        ""
      ],
      "execution_count": null,
      "outputs": []
    },
    {
      "cell_type": "markdown",
      "metadata": {
        "id": "7njj-YRv7TpI"
      },
      "source": [
        "sound 'a'\n",
        "\n",
        "pitch 224.7 Hz\n",
        "\n",
        "intensity 61.4 dB\n",
        "\n",
        "formant 1st-664.2 Hz 2nd-1298 Hz\n",
        "\n",
        "duration 0.619637 sec\n",
        "\n",
        "\n",
        "sound 'b'\n",
        "\n",
        "pitch 226.4 Hz\n",
        "\n",
        "intensity 60.22 dB\n",
        "\n",
        "formant 1st-442.3 Hz 2nd-1615 Hz\n",
        "\n",
        "duration 0.678650 sec"
      ]
    }
  ]
}